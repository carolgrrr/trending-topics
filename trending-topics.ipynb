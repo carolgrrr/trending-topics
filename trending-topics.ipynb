{
 "cells": [
  {
   "cell_type": "markdown",
   "metadata": {},
   "source": [
    "Find trending topics on twitter for a list of locations and save to csv"
   ]
  },
  {
   "cell_type": "code",
   "execution_count": 1,
   "metadata": {
    "collapsed": true
   },
   "outputs": [],
   "source": [
    "import configparser\n",
    "from TwitterAPI import TwitterAPI\n",
    "import sys\n",
    "import time"
   ]
  },
  {
   "cell_type": "code",
   "execution_count": 2,
   "metadata": {
    "collapsed": true
   },
   "outputs": [],
   "source": [
    "def get_twitter(config_file):\n",
    "    \"\"\" Read the config_file and construct an instance of TwitterAPI.\n",
    "    Args:\n",
    "      config_file ... A config file in ConfigParser format with Twitter credentials\n",
    "    Returns:\n",
    "      An instance of TwitterAPI.\n",
    "    \"\"\"\n",
    "    config = configparser.ConfigParser()\n",
    "    config.read(config_file)\n",
    "    twitter = TwitterAPI(\n",
    "                   config.get('twitter', 'consumer_key'),\n",
    "                   config.get('twitter', 'consumer_secret'),\n",
    "                   config.get('twitter', 'access_token'),\n",
    "                   config.get('twitter', 'access_token_secret'))\n",
    "    return twitter\n",
    "\n",
    "def robust_request(twitter, resource, params, max_tries=5):\n",
    "    \"\"\" If a Twitter request fails, sleep for 15 minutes.\n",
    "    Do this at most max_tries times before quitting.\n",
    "    Args:\n",
    "      twitter .... A TwitterAPI object.\n",
    "      resource ... A resource string to request.\n",
    "      params ..... A parameter dictionary for the request.\n",
    "      max_tries .. The maximum number of tries to attempt.\n",
    "    Returns:\n",
    "      A TwitterResponse object, or None if failed.\n",
    "    \"\"\"\n",
    "    for i in range(max_tries):\n",
    "        request = twitter.request(resource, params)\n",
    "        if request.status_code == 200:\n",
    "            return request\n",
    "        else:\n",
    "            print('Got error:', request.text, '\\nsleeping for 15 minutes.', file=sys.stderr)\n",
    "            sys.stderr.flush()\n",
    "            time.sleep(61 * 15)\n",
    "\n",
    "def find_trends(twitter, location):\n",
    "    topics = robust_request(twitter, 'trends/place', {'id': location}, 20)\n",
    "    trends = []\n",
    "    for t in topics:\n",
    "        topic = \"%d\\t%s\\t%s\\t%s\\t%s\\t%s\\n\" %(location, t['name'], t['url'], str(t['tweet_volume']), t['promoted_content'], t['query'])\n",
    "        trends.append(topic)\n",
    "    return trends\n",
    "\n",
    "def find_place_ids(twitter):\n",
    "    places = robust_request(twitter, 'trends/available',{}, 20)\n",
    "    place_ids = []\n",
    "    for p in places:\n",
    "        place_ids.append(p['woeid'])\n",
    "    return place_ids\n",
    "\n",
    "def find_places(twitter):\n",
    "    places = robust_request(twitter, 'trends/available',{}, 20)\n",
    "    all_places = []\n",
    "    for p in places:\n",
    "        all_places.append(p)\n",
    "    return all_places\n",
    "\n",
    "def extract_topics(infile, outfile, keyword):\n",
    "    topics = []\n",
    "    with open(infile, 'r') as tsv_file:\n",
    "        for line in tsv_file:\n",
    "            row = line.split()\n",
    "            if keyword in row[2]:\n",
    "                topics.append(row)\n",
    "    return topics"
   ]
  },
  {
   "cell_type": "code",
   "execution_count": 3,
   "metadata": {
    "collapsed": false
   },
   "outputs": [
    {
     "name": "stdout",
     "output_type": "stream",
     "text": [
      "Established Twitter connection.\n"
     ]
    }
   ],
   "source": [
    "twitter = get_twitter('settings.cfg')\n",
    "print('Established Twitter connection.')"
   ]
  },
  {
   "cell_type": "code",
   "execution_count": 4,
   "metadata": {
    "collapsed": false
   },
   "outputs": [],
   "source": [
    "config = configparser.ConfigParser()\n",
    "config.read('settings.cfg')\n",
    "all_topics = config.get('files', 'all_topics')\n",
    "filtered_topics = config.get('files', 'all_topics')\n",
    "filter_term = config.get('files', 'filter_term')\n",
    "\n",
    "place_ids = find_place_ids(twitter)\n",
    "places = find_places(twitter)\n",
    "\n",
    "\n"
   ]
  },
  {
   "cell_type": "code",
   "execution_count": 7,
   "metadata": {
    "collapsed": false
   },
   "outputs": [
    {
     "name": "stderr",
     "output_type": "stream",
     "text": [
      "Got error: {\"errors\":[{\"message\":\"Rate limit exceeded\",\"code\":88}]} \n",
      "sleeping for 15 minutes.\n",
      "Got error: {\"errors\":[{\"message\":\"Rate limit exceeded\",\"code\":88}]} \n",
      "sleeping for 15 minutes.\n",
      "Got error: {\"errors\":[{\"message\":\"Rate limit exceeded\",\"code\":88}]} \n",
      "sleeping for 15 minutes.\n",
      "Got error: {\"errors\":[{\"message\":\"Rate limit exceeded\",\"code\":88}]} \n",
      "sleeping for 15 minutes.\n",
      "Got error: {\"errors\":[{\"message\":\"Rate limit exceeded\",\"code\":88}]} \n",
      "sleeping for 15 minutes.\n",
      "Got error: {\"errors\":[{\"message\":\"Rate limit exceeded\",\"code\":88}]} \n",
      "sleeping for 15 minutes.\n"
     ]
    }
   ],
   "source": [
    "with open(all_topics, 'w') as tsv_file:\n",
    "    tsv_file.write('Location Name\\tWOE ID\\tName\\tURL\\tEvents\\tPromoted?\\tQuery\\n')\n",
    "\n",
    "for pid in place_ids:\n",
    "    try:\n",
    "        trends = find_trends(twitter, pid)\n",
    "        \n",
    "        for p in places:\n",
    "            if p['woeid'] == pid:\n",
    "                name = p['name']\n",
    "        with open('all_topics', 'a') as tsv_file:\n",
    "            #print(trends[0])\n",
    "            for topic in trends:\n",
    "                tsv_file.write(name+'\\t'+ topic)\n",
    "    except (Timeout, ssl.SSLError, ReadTimeoutError, ConnectionError) as exc:\n",
    "        print(\"error: %s\" % exc)\n",
    "        sleep(60*5)"
   ]
  },
  {
   "cell_type": "markdown",
   "metadata": {},
   "source": [
    "Started at 8:31 PM. Failed, then restarted at 8:33 PM. Failed at 8:55 & restarted.\n",
    "\n",
    "Started at 10:58. Reached rate limit at 11:00\n",
    "Started at 12:49am. Failed at 3:10am (almost done)\n",
    "Started at 4:24am\n",
    "\n",
    "Started at 3PM 1/7. Done before 5PM (after 4:30 I think)."
   ]
  },
  {
   "cell_type": "code",
   "execution_count": null,
   "metadata": {
    "collapsed": true
   },
   "outputs": [],
   "source": [
    "filtered = []\n",
    "with open(filtered_topics, 'r') as tsv_file:\n",
    "    for line in tsv_file:\n",
    "        row = line.split()\n",
    "        if filter_term in row[2]:\n",
    "            filtered.append(row)\n",
    "        "
   ]
  },
  {
   "cell_type": "code",
   "execution_count": null,
   "metadata": {
    "collapsed": false
   },
   "outputs": [],
   "source": [
    "def extract_topics(infile, outfile, keyword):\n",
    "    topics = []\n",
    "    with open(infile, 'r') as tsv_file:\n",
    "        for line in tsv_file:\n",
    "            row = line.split()\n",
    "            if keyword in row[2]:\n",
    "                topics.append(row)\n",
    "    return topics\n",
    "                "
   ]
  },
  {
   "cell_type": "code",
   "execution_count": null,
   "metadata": {
    "collapsed": false
   },
   "outputs": [],
   "source": [
    "len(topics_17)"
   ]
  },
  {
   "cell_type": "code",
   "execution_count": null,
   "metadata": {
    "collapsed": true
   },
   "outputs": [],
   "source": [
    "with open(filtered, 'w') as tsv_file:\n",
    "    for topic in topics_17:\n",
    "        row = \"%s\\t%s\\t%s\\t%s\\t%s\\t%s\\t%s\\n\" %(topic[0], topic[1], topic[2], topic[3], topic[4], topic[5], topic[6])\n",
    "        tsv_file.write(row)"
   ]
  },
  {
   "cell_type": "code",
   "execution_count": null,
   "metadata": {
    "collapsed": true
   },
   "outputs": [],
   "source": []
  }
 ],
 "metadata": {
  "kernelspec": {
   "display_name": "Python 3",
   "language": "python",
   "name": "python3"
  },
  "language_info": {
   "codemirror_mode": {
    "name": "ipython",
    "version": 3
   },
   "file_extension": ".py",
   "mimetype": "text/x-python",
   "name": "python",
   "nbconvert_exporter": "python",
   "pygments_lexer": "ipython3",
   "version": "3.4.3"
  }
 },
 "nbformat": 4,
 "nbformat_minor": 0
}
